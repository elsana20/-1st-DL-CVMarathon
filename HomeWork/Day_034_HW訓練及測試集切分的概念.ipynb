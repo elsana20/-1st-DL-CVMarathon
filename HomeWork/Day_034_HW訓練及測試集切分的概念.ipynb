{
 "cells": [
  {
   "cell_type": "markdown",
   "metadata": {},
   "source": [
    "## 練習時間\n",
    "假設我們資料中類別的數量並不均衡，在評估準確率時可能會有所偏頗，試著切分出 y_test 中，0 類別與 1 類別的數量是一樣的 (亦即 y_test 的類別是均衡的)"
   ]
  },
  {
   "cell_type": "code",
   "execution_count": 1,
   "metadata": {},
   "outputs": [],
   "source": [
    "import numpy as np\n",
    "X = np.arange(1000).reshape(200, 5)\n",
    "y = np.zeros(200)\n",
    "y[:40] = 1"
   ]
  },
  {
   "cell_type": "code",
   "execution_count": 2,
   "metadata": {},
   "outputs": [
    {
     "data": {
      "text/plain": [
       "array([1., 1., 1., 1., 1., 1., 1., 1., 1., 1., 1., 1., 1., 1., 1., 1., 1.,\n",
       "       1., 1., 1., 1., 1., 1., 1., 1., 1., 1., 1., 1., 1., 1., 1., 1., 1.,\n",
       "       1., 1., 1., 1., 1., 1., 0., 0., 0., 0., 0., 0., 0., 0., 0., 0., 0.,\n",
       "       0., 0., 0., 0., 0., 0., 0., 0., 0., 0., 0., 0., 0., 0., 0., 0., 0.,\n",
       "       0., 0., 0., 0., 0., 0., 0., 0., 0., 0., 0., 0., 0., 0., 0., 0., 0.,\n",
       "       0., 0., 0., 0., 0., 0., 0., 0., 0., 0., 0., 0., 0., 0., 0., 0., 0.,\n",
       "       0., 0., 0., 0., 0., 0., 0., 0., 0., 0., 0., 0., 0., 0., 0., 0., 0.,\n",
       "       0., 0., 0., 0., 0., 0., 0., 0., 0., 0., 0., 0., 0., 0., 0., 0., 0.,\n",
       "       0., 0., 0., 0., 0., 0., 0., 0., 0., 0., 0., 0., 0., 0., 0., 0., 0.,\n",
       "       0., 0., 0., 0., 0., 0., 0., 0., 0., 0., 0., 0., 0., 0., 0., 0., 0.,\n",
       "       0., 0., 0., 0., 0., 0., 0., 0., 0., 0., 0., 0., 0., 0., 0., 0., 0.,\n",
       "       0., 0., 0., 0., 0., 0., 0., 0., 0., 0., 0., 0., 0.])"
      ]
     },
     "execution_count": 2,
     "metadata": {},
     "output_type": "execute_result"
    }
   ],
   "source": [
    "y"
   ]
  },
  {
   "cell_type": "markdown",
   "metadata": {},
   "source": [
    "可以看見 y 類別中，有 160 個 類別 0，40 個 類別 1 ，請試著使用 train_test_split 函數，切分出 y_test 中能各有 10 筆類別 0 與 10 筆類別 1 。(HINT: 參考函數中的 test_size，可針對不同類別各自作切分後再合併)"
   ]
  },
  {
   "cell_type": "code",
   "execution_count": 3,
   "metadata": {},
   "outputs": [
    {
     "name": "stdout",
     "output_type": "stream",
     "text": [
      "[0. 0. 0. 0. 0. 0. 0. 0. 0. 0. 1. 1. 1. 1. 1. 1. 1. 1. 1. 1.]\n",
      "[[725 726 727 728 729  95  96  97  98  99]\n",
      " [740 741 742 743 744  80  81  82  83  84]\n",
      " [905 906 907 908 909  75  76  77  78  79]\n",
      " [475 476 477 478 479 130 131 132 133 134]\n",
      " [670 671 672 673 674  20  21  22  23  24]\n",
      " [345 346 347 348 349  60  61  62  63  64]\n",
      " [705 706 707 708 709 185 186 187 188 189]\n",
      " [455 456 457 458 459 135 136 137 138 139]\n",
      " [700 701 702 703 704 195 196 197 198 199]\n",
      " [910 911 912 913 914  30  31  32  33  34]]\n"
     ]
    }
   ],
   "source": [
    "from sklearn.model_selection import train_test_split\n",
    "\n",
    "y1=y[np.where(y==1)]\n",
    "X1=X[np.where(y==1)]\n",
    "y0=y[np.where(y==0)]  \n",
    "X0=X[np.where(y==0)]\n",
    "\n",
    "X_train0, X_test0,y_train0, y_test0 = train_test_split(X0,y0, test_size=10, random_state=42)\n",
    "X_train1, X_test1,y_train1, y_test1 = train_test_split(X1,y1, test_size=10, random_state=42)\n",
    "\n",
    "y_test = np.hstack([y_test0,y_test1]) #資料合併成一個大df,作特徵工程\n",
    "y_train = np.hstack([y_train0,y_train1]) #資料合併成一個大df,作特徵工程\n",
    "X_test = np.hstack([X_test0,X_test1]) #資料合併成一個大df,作特徵工程\n",
    "X_train = np.hstack([X_test0,X_test1]) #資料合併成一個大df,作特徵工程\n",
    "\n",
    "print(y_test)\n",
    "print(X_test)"
   ]
  }
 ],
 "metadata": {
  "kernelspec": {
   "display_name": "Python 3",
   "language": "python",
   "name": "python3"
  },
  "language_info": {
   "codemirror_mode": {
    "name": "ipython",
    "version": 3
   },
   "file_extension": ".py",
   "mimetype": "text/x-python",
   "name": "python",
   "nbconvert_exporter": "python",
   "pygments_lexer": "ipython3",
   "version": "3.7.4"
  }
 },
 "nbformat": 4,
 "nbformat_minor": 2
}
