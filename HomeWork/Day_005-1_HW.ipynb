{
 "cells": [
  {
   "cell_type": "markdown",
   "metadata": {},
   "source": [
    "# [作業目標]\n",
    "- 利用範例的創建方式, 創建一組資料, 並練習如何取出最大值"
   ]
  },
  {
   "cell_type": "markdown",
   "metadata": {},
   "source": [
    "# [作業重點]\n",
    "- 練習創立 DataFrame (In[2])\n",
    "- 如何取出口數最多的國家 (In[3], Out[3])"
   ]
  },
  {
   "cell_type": "markdown",
   "metadata": {},
   "source": [
    "## 練習時間\n",
    "在小量的資料上，我們用眼睛就可以看得出來程式碼是否有跑出我們理想中的結果\n",
    "\n",
    "請嘗試想像一個你需要的資料結構 (裡面的值可以是隨機的)，然後用上述的方法把它變成 pandas DataFrame\n",
    "\n",
    "#### Ex: 想像一個 dataframe 有兩個欄位，一個是國家，一個是人口，求人口數最多的國家\n",
    "\n",
    "### Hints: [隨機產生數值](https://blog.csdn.net/christianashannon/article/details/78867204)"
   ]
  },
  {
   "cell_type": "code",
   "execution_count": 1,
   "metadata": {},
   "outputs": [],
   "source": [
    "import pandas as pd\n",
    "import numpy as np"
   ]
  },
  {
   "cell_type": "code",
   "execution_count": 2,
   "metadata": {},
   "outputs": [
    {
     "name": "stdout",
     "output_type": "stream",
     "text": [
      "              國家      人口\n",
      "0         Taiwan  460000\n",
      "1  United States  680000\n",
      "2       Thailand  750000\n",
      "人口最多的國家是Thailand,共有750000人\n"
     ]
    }
   ],
   "source": [
    "data = {'國家':[],\n",
    "        '人口':[]}\n",
    "\n",
    "country = ['Taiwan', 'United States', 'Thailand']\n",
    "population = np.random.randint(1, 99, 3, 'l')*10000\n",
    "#numpy.random.randint(low, high=None, size=None, dtype='l')\n",
    "#返回隨機整數，範圍區間為[low,high），包含low，不包含high\n",
    "#參數：low為最小值，high為最大值，size為數組維度大小，\n",
    "#dtype為數據類型，默認的數據類型是np.int\n",
    "#high沒有填寫時，默認生成隨機數的範圍是[0，low)\n",
    "\n",
    "list_labels = ['國家', '人口'] #標籤顯示列\n",
    "list_cols = [country, population]  #直資料行\n",
    "zipped = list(zip(list_labels, list_cols))\n",
    "\n",
    "data = pd.DataFrame(dict(zipped))\n",
    "\n",
    "print(data)\n",
    "\n",
    "print('人口最多的國家是{c1},共有{p1}人'.format(c1=data['國家'][data['人口'].idxmax()], p1=data['人口'].max()))\n",
    "#data['人口'].max()\n",
    "#data['國家'][data['人口'].idxmax()]\n",
    "\n",
    "\n"
   ]
  },
  {
   "cell_type": "code",
   "execution_count": null,
   "metadata": {},
   "outputs": [],
   "source": []
  }
 ],
 "metadata": {
  "kernelspec": {
   "display_name": "Python 3",
   "language": "python",
   "name": "python3"
  },
  "language_info": {
   "codemirror_mode": {
    "name": "ipython",
    "version": 3
   },
   "file_extension": ".py",
   "mimetype": "text/x-python",
   "name": "python",
   "nbconvert_exporter": "python",
   "pygments_lexer": "ipython3",
   "version": "3.7.4"
  }
 },
 "nbformat": 4,
 "nbformat_minor": 2
}
